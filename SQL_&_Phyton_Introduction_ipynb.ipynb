{
  "nbformat": 4,
  "nbformat_minor": 0,
  "metadata": {
    "colab": {
      "provenance": [],
      "authorship_tag": "ABX9TyMJQY9otnumWCpoBX9b/US/",
      "include_colab_link": true
    },
    "kernelspec": {
      "name": "python3",
      "display_name": "Python 3"
    },
    "language_info": {
      "name": "python"
    }
  },
  "cells": [
    {
      "cell_type": "markdown",
      "metadata": {
        "id": "view-in-github",
        "colab_type": "text"
      },
      "source": [
        "<a href=\"https://colab.research.google.com/github/skinnymonkey333/Praktek_Git_SQL/blob/master/SQL_%26_Phyton_Introduction_ipynb.ipynb\" target=\"_parent\"><img src=\"https://colab.research.google.com/assets/colab-badge.svg\" alt=\"Open In Colab\"/></a>"
      ]
    },
    {
      "cell_type": "code",
      "source": [],
      "metadata": {
        "id": "6OD7GUb67Wdm"
      },
      "execution_count": null,
      "outputs": []
    },
    {
      "cell_type": "markdown",
      "source": [
        "# **Install Library psycopg2**\n"
      ],
      "metadata": {
        "id": "M9Mx4uMp7duf"
      }
    },
    {
      "cell_type": "markdown",
      "source": [
        "psycopg2 adalah library phyton untuk menghubungkan dengan PostgreSQL\n",
        "\n",
        "\n",
        "\n",
        "*  Library lain untuk SQL server = pyodbc\n",
        "*  Library lain untuk MySQL = msqli\n",
        "*  Library lain untuk SQLite = sqlite\n",
        "\n"
      ],
      "metadata": {
        "id": "1K36Sqih8423"
      }
    },
    {
      "cell_type": "code",
      "source": [
        "!pip install psycopg2 #Install Library psycopg2"
      ],
      "metadata": {
        "colab": {
          "base_uri": "https://localhost:8080/"
        },
        "id": "Pk2UAJhw-GlB",
        "outputId": "5ee228bd-98ce-4fd2-ee8f-f1236f5b47ff"
      },
      "execution_count": null,
      "outputs": [
        {
          "output_type": "stream",
          "name": "stdout",
          "text": [
            "Looking in indexes: https://pypi.org/simple, https://us-python.pkg.dev/colab-wheels/public/simple/\n",
            "Requirement already satisfied: psycopg2 in /usr/local/lib/python3.7/dist-packages (2.9.3)\n"
          ]
        }
      ]
    },
    {
      "cell_type": "markdown",
      "source": [
        "# **Import Library**"
      ],
      "metadata": {
        "id": "IZARlY8g-xSw"
      }
    },
    {
      "cell_type": "markdown",
      "source": [
        "Import library psycopg2 dan pandas\n",
        "\n",
        "\n",
        "\n",
        "*   Psycopg2 untuk connect/menghubungkan dengan database postgreSQL\n",
        "*   Pandas untuk pengolahan data dalam phyton\n",
        "\n"
      ],
      "metadata": {
        "id": "IKbJ25tE-0YJ"
      }
    },
    {
      "cell_type": "code",
      "source": [
        "#import library\n",
        "import psycopg2\n",
        "import pandas as pd"
      ],
      "metadata": {
        "id": "rt6mxh1I_le3"
      },
      "execution_count": null,
      "outputs": []
    }
  ]
}